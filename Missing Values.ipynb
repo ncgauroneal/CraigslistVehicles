{
 "cells": [
  {
   "cell_type": "code",
   "execution_count": 5,
   "metadata": {},
   "outputs": [],
   "source": [
    "import pandas as pd\n",
    "import numpy as np\n",
    "import seaborn as sns"
   ]
  },
  {
   "cell_type": "code",
   "execution_count": 2,
   "metadata": {},
   "outputs": [],
   "source": [
    "data = pd.read_csv('vehicles.csv')"
   ]
  },
  {
   "cell_type": "code",
   "execution_count": 3,
   "metadata": {},
   "outputs": [
    {
     "data": {
      "text/plain": [
       "Index(['id', 'url', 'region', 'region_url', 'price', 'year', 'manufacturer',\n",
       "       'model', 'condition', 'cylinders', 'fuel', 'odometer', 'title_status',\n",
       "       'transmission', 'vin', 'drive', 'size', 'type', 'paint_color',\n",
       "       'image_url', 'description', 'county', 'state', 'lat', 'long'],\n",
       "      dtype='object')"
      ]
     },
     "execution_count": 3,
     "metadata": {},
     "output_type": "execute_result"
    }
   ],
   "source": [
    "data.columns"
   ]
  },
  {
   "cell_type": "code",
   "execution_count": 4,
   "metadata": {},
   "outputs": [
    {
     "data": {
      "text/plain": [
       "id                   0\n",
       "url                  0\n",
       "region               0\n",
       "region_url           0\n",
       "price                0\n",
       "year               626\n",
       "manufacturer     18549\n",
       "model             5988\n",
       "condition       179689\n",
       "cylinders       160750\n",
       "fuel              2829\n",
       "odometer         73671\n",
       "title_status      1664\n",
       "transmission      2023\n",
       "vin             192529\n",
       "drive           118802\n",
       "size            286405\n",
       "type            114053\n",
       "paint_color     131623\n",
       "image_url           22\n",
       "description         25\n",
       "county          423984\n",
       "state                0\n",
       "lat               8075\n",
       "long              8075\n",
       "dtype: int64"
      ]
     },
     "execution_count": 4,
     "metadata": {},
     "output_type": "execute_result"
    }
   ],
   "source": [
    "data.isnull().sum(axis = 0)"
   ]
  },
  {
   "cell_type": "code",
   "execution_count": 11,
   "metadata": {},
   "outputs": [
    {
     "data": {
      "text/plain": [
       "image_url           22\n",
       "description         25\n",
       "year               626\n",
       "title_status      1664\n",
       "transmission      2023\n",
       "fuel              2829\n",
       "model             5988\n",
       "lat               8075\n",
       "long              8075\n",
       "manufacturer     18549\n",
       "odometer         73671\n",
       "type            114053\n",
       "drive           118802\n",
       "paint_color     131623\n",
       "cylinders       160750\n",
       "condition       179689\n",
       "vin             192529\n",
       "size            286405\n",
       "county          423984\n",
       "dtype: int64"
      ]
     },
     "execution_count": 11,
     "metadata": {},
     "output_type": "execute_result"
    }
   ],
   "source": [
    "missing_values = data.isnull().sum()\n",
    "missing_values = missing_values[missing_values > 0]\n",
    "missing_values.sort_values(inplace=True)\n",
    "missing_values"
   ]
  },
  {
   "cell_type": "code",
   "execution_count": 12,
   "metadata": {},
   "outputs": [],
   "source": [
    "missing_values = missing_values.to_frame()\n",
    "missing_values.columns = ['count']\n",
    "missing_values.index.names = ['Name']\n",
    "missing_values['Name'] = missing_values.index"
   ]
  },
  {
   "cell_type": "code",
   "execution_count": 14,
   "metadata": {},
   "outputs": [],
   "source": [
    "import matplotlib.pyplot as plt"
   ]
  },
  {
   "cell_type": "code",
   "execution_count": 15,
   "metadata": {},
   "outputs": [
    {
     "data": {
      "image/png": "[encoded data removed]",
      "text/plain": [
       "<Figure size 432x288 with 1 Axes>"
      ]
     },
     "metadata": {},
     "output_type": "display_data"
    }
   ],
   "source": [
    "sns.set(style=\"whitegrid\", color_codes=True)\n",
    "sns.barplot(x = 'Name', y = 'count', data=missing_values)\n",
    "plt.xticks(rotation = 90)\n",
    "plt.show()"
   ]
  },
  {
   "cell_type": "markdown",
   "metadata": {},
   "source": [
    "Fill in age missing value"
   ]
  },
  {
   "cell_type": "code",
   "execution_count": 17,
   "metadata": {},
   "outputs": [],
   "source": [
    "median_age = np.median(data.year)"
   ]
  },
  {
   "cell_type": "code",
   "execution_count": 18,
   "metadata": {},
   "outputs": [
    {
     "data": {
      "text/plain": [
       "nan"
      ]
     },
     "execution_count": 18,
     "metadata": {},
     "output_type": "execute_result"
    }
   ],
   "source": [
    "median_age"
   ]
  },
  {
   "cell_type": "code",
   "execution_count": 25,
   "metadata": {},
   "outputs": [],
   "source": [
    "x = list()"
   ]
  },
  {
   "cell_type": "code",
   "execution_count": 46,
   "metadata": {},
   "outputs": [],
   "source": [
    "def fill(val, fill_in):\n",
    "    \n",
    "    if pd.isnull(val):\n",
    "        return fill_in\n",
    "    else:\n",
    "        return val"
   ]
  },
  {
   "cell_type": "code",
   "execution_count": 27,
   "metadata": {},
   "outputs": [],
   "source": [
    "for year in data['year']:\n",
    "    if not pd.isnull(year):\n",
    "        x.append(year)"
   ]
  },
  {
   "cell_type": "code",
   "execution_count": 28,
   "metadata": {},
   "outputs": [],
   "source": [
    "median_age = np.median(x)"
   ]
  },
  {
   "cell_type": "code",
   "execution_count": 29,
   "metadata": {},
   "outputs": [
    {
     "data": {
      "text/plain": [
       "2012.0"
      ]
     },
     "execution_count": 29,
     "metadata": {},
     "output_type": "execute_result"
    }
   ],
   "source": [
    "median_age"
   ]
  },
  {
   "cell_type": "code",
   "execution_count": 34,
   "metadata": {},
   "outputs": [],
   "source": [
    "x = data['year'].apply(fill_age, fill_in=median_age)"
   ]
  },
  {
   "cell_type": "code",
   "execution_count": 36,
   "metadata": {},
   "outputs": [
    {
     "data": {
      "text/plain": [
       "pandas.core.series.Series"
      ]
     },
     "execution_count": 36,
     "metadata": {},
     "output_type": "execute_result"
    }
   ],
   "source": [
    "type(x)"
   ]
  },
  {
   "cell_type": "code",
   "execution_count": 37,
   "metadata": {},
   "outputs": [],
   "source": [
    "data['year'] = x"
   ]
  },
  {
   "cell_type": "code",
   "execution_count": 38,
   "metadata": {},
   "outputs": [
    {
     "data": {
      "text/plain": [
       "0"
      ]
     },
     "execution_count": 38,
     "metadata": {},
     "output_type": "execute_result"
    }
   ],
   "source": [
    "data.isnull().sum(axis = 0)['year']"
   ]
  },
  {
   "cell_type": "code",
   "execution_count": 39,
   "metadata": {},
   "outputs": [
    {
     "data": {
      "text/plain": [
       "id                   0\n",
       "url                  0\n",
       "region               0\n",
       "region_url           0\n",
       "price                0\n",
       "year                 0\n",
       "manufacturer     18549\n",
       "model             5988\n",
       "condition       179689\n",
       "cylinders       160750\n",
       "fuel              2829\n",
       "odometer         73671\n",
       "title_status      1664\n",
       "transmission      2023\n",
       "vin             192529\n",
       "drive           118802\n",
       "size            286405\n",
       "type            114053\n",
       "paint_color     131623\n",
       "image_url           22\n",
       "description         25\n",
       "county          423984\n",
       "state                0\n",
       "lat               8075\n",
       "long              8075\n",
       "dtype: int64"
      ]
     },
     "execution_count": 39,
     "metadata": {},
     "output_type": "execute_result"
    }
   ],
   "source": [
    "data.isnull().sum(axis = 0)"
   ]
  },
  {
   "cell_type": "code",
   "execution_count": 40,
   "metadata": {},
   "outputs": [],
   "source": [
    "data.drop('county', axis=1, inplace=True)"
   ]
  },
  {
   "cell_type": "code",
   "execution_count": 41,
   "metadata": {},
   "outputs": [
    {
     "data": {
      "text/plain": [
       "nan"
      ]
     },
     "execution_count": 41,
     "metadata": {},
     "output_type": "execute_result"
    }
   ],
   "source": [
    "np.median(data.odometer)"
   ]
  },
  {
   "cell_type": "code",
   "execution_count": 42,
   "metadata": {},
   "outputs": [],
   "source": [
    "x = list()"
   ]
  },
  {
   "cell_type": "code",
   "execution_count": 43,
   "metadata": {},
   "outputs": [],
   "source": [
    "for dist in data['odometer']:\n",
    "    if not pd.isnull(dist):\n",
    "        x.append(dist)"
   ]
  },
  {
   "cell_type": "code",
   "execution_count": 45,
   "metadata": {},
   "outputs": [],
   "source": [
    "median_dist = np.median(x)"
   ]
  },
  {
   "cell_type": "code",
   "execution_count": 47,
   "metadata": {},
   "outputs": [],
   "source": [
    "data['odometer'] = data['odometer'].apply(fill, fill_in=median_dist)"
   ]
  },
  {
   "cell_type": "code",
   "execution_count": 48,
   "metadata": {},
   "outputs": [
    {
     "data": {
      "text/plain": [
       "0"
      ]
     },
     "execution_count": 48,
     "metadata": {},
     "output_type": "execute_result"
    }
   ],
   "source": [
    "data.isnull().sum(axis = 0)['odometer']"
   ]
  },
  {
   "cell_type": "code",
   "execution_count": 49,
   "metadata": {},
   "outputs": [],
   "source": [
    "def get_counts(data, column):\n",
    "    \n",
    "    #counts = dict()\n",
    "    variable = data[column]\n",
    "    counts = dict(variable.value_counts())\n",
    "    return counts"
   ]
  },
  {
   "cell_type": "code",
   "execution_count": 50,
   "metadata": {},
   "outputs": [
    {
     "data": {
      "text/plain": [
       "Index(['id', 'url', 'region', 'region_url', 'price', 'year', 'manufacturer',\n",
       "       'model', 'condition', 'cylinders', 'fuel', 'odometer', 'title_status',\n",
       "       'transmission', 'vin', 'drive', 'size', 'type', 'paint_color',\n",
       "       'image_url', 'description', 'state', 'lat', 'long'],\n",
       "      dtype='object')"
      ]
     },
     "execution_count": 50,
     "metadata": {},
     "output_type": "execute_result"
    }
   ],
   "source": [
    "data.columns"
   ]
  },
  {
   "cell_type": "code",
   "execution_count": 51,
   "metadata": {},
   "outputs": [],
   "source": [
    "data.rename({'manufacturer':'make'}, axis=1, inplace=True)"
   ]
  },
  {
   "cell_type": "code",
   "execution_count": null,
   "metadata": {},
   "outputs": [],
   "source": []
  },
  {
   "cell_type": "code",
   "execution_count": 62,
   "metadata": {},
   "outputs": [],
   "source": [
    "#make_counts = get_counts(data, 'make')\n",
    "make_mode = 'ford'\n",
    "data['make'] = data['make'].apply(fill, fill_in='ford')"
   ]
  },
  {
   "cell_type": "code",
   "execution_count": 63,
   "metadata": {},
   "outputs": [
    {
     "data": {
      "text/plain": [
       "0"
      ]
     },
     "execution_count": 63,
     "metadata": {},
     "output_type": "execute_result"
    }
   ],
   "source": [
    "data.isnull().sum(axis = 0)['make']"
   ]
  },
  {
   "cell_type": "code",
   "execution_count": 65,
   "metadata": {},
   "outputs": [
    {
     "data": {
      "text/plain": [
       "5988"
      ]
     },
     "execution_count": 65,
     "metadata": {},
     "output_type": "execute_result"
    }
   ],
   "source": [
    "data.isnull().sum(axis = 0)['model']"
   ]
  },
  {
   "cell_type": "code",
   "execution_count": 66,
   "metadata": {},
   "outputs": [],
   "source": [
    "makes = list(data['make'])\n",
    "models = list(data['model'])"
   ]
  },
  {
   "cell_type": "code",
   "execution_count": 69,
   "metadata": {},
   "outputs": [],
   "source": [
    "no_info = list()\n",
    "for i in range(0, len(makes)):\n",
    "    if pd.isnull(models[i]):\n",
    "        no_info.append(i)"
   ]
  },
  {
   "cell_type": "code",
   "execution_count": 70,
   "metadata": {},
   "outputs": [
    {
     "data": {
      "text/plain": [
       "[5,\n",
       " 22,\n",
       " 64,\n",
       " 124,\n",
       " 151,\n",
       " 312,\n",
       " 525,\n",
       " 569,\n",
       " 648,\n",
       " 831,\n",
       " 877,\n",
       " 1257,\n",
       " 1268,\n",
       " 1304,\n",
       " 1325,\n",
       " 1394,\n",
       " 1586,\n",
       " 1646,\n",
       " 1780,\n",
       " 1803,\n",
       " 1927,\n",
       " 2128,\n",
       " 2141,\n",
       " 2437,\n",
       " 2524,\n",
       " 2529,\n",
       " 2551,\n",
       " 2602,\n",
       " 2632,\n",
       " 2635,\n",
       " 2871,\n",
       " 2872,\n",
       " 2917,\n",
       " 2918,\n",
       " 3024,\n",
       " 3059,\n",
       " 3184,\n",
       " 3350,\n",
       " 3367,\n",
       " 3549,\n",
       " 3760,\n",
       " 3894,\n",
       " 4027,\n",
       " 4092,\n",
       " 4205,\n",
       " 4295,\n",
       " 4331,\n",
       " 4345,\n",
       " 4351,\n",
       " 4355,\n",
       " 4360,\n",
       " 4385,\n",
       " 4487,\n",
       " 4515,\n",
       " 4520,\n",
       " 4650,\n",
       " 4668,\n",
       " 4741,\n",
       " 4767,\n",
       " 4859,\n",
       " 4882,\n",
       " 4891,\n",
       " 4904,\n",
       " 4920,\n",
       " 4934,\n",
       " 5091,\n",
       " 5103,\n",
       " 5131,\n",
       " 5134,\n",
       " 5168,\n",
       " 5171,\n",
       " 5329,\n",
       " 5398,\n",
       " 5543,\n",
       " 5658,\n",
       " 5775,\n",
       " 5859,\n",
       " 6001,\n",
       " 6014,\n",
       " 6026,\n",
       " 6041,\n",
       " 6224,\n",
       " 6249,\n",
       " 6462,\n",
       " 6487,\n",
       " 6518,\n",
       " 6531,\n",
       " 6580,\n",
       " 6613,\n",
       " 6718,\n",
       " 6750,\n",
       " 6834,\n",
       " 6841,\n",
       " 6903,\n",
       " 6995,\n",
       " 7052,\n",
       " 7082,\n",
       " 7489,\n",
       " 7512,\n",
       " 7513,\n",
       " 7659,\n",
       " 7671,\n",
       " 7815,\n",
       " 7978,\n",
       " 7980,\n",
       " 8051,\n",
       " 8161,\n",
       " 8190,\n",
       " 8293,\n",
       " 8339,\n",
       " 8349,\n",
       " 8705,\n",
       " 8707,\n",
       " 8966,\n",
       " 9099,\n",
       " 9305,\n",
       " 9426,\n",
       " 9599,\n",
       " 9646,\n",
       " 9778,\n",
       " 9821,\n",
       " 9854,\n",
       " 10056,\n",
       " 10085,\n",
       " 10219,\n",
       " 10222,\n",
       " 10264,\n",
       " 10298,\n",
       " 10653,\n",
       " 10773,\n",
       " 10871,\n",
       " 10881,\n",
       " 10891,\n",
       " 10911,\n",
       " 10912,\n",
       " 11319,\n",
       " 11327,\n",
       " 11605,\n",
       " 11697,\n",
       " 11729,\n",
       " 11951,\n",
       " 11973,\n",
       " 11983,\n",
       " 11993,\n",
       " 12058,\n",
       " 12073,\n",
       " 12173,\n",
       " 12527,\n",
       " 12613,\n",
       " 12793,\n",
       " 12804,\n",
       " 12818,\n",
       " 12911,\n",
       " 12967,\n",
       " 13059,\n",
       " 13067,\n",
       " 13113,\n",
       " 13119,\n",
       " 13121,\n",
       " 13155,\n",
       " 13183,\n",
       " 13204,\n",
       " 13375,\n",
       " 13549,\n",
       " 13641,\n",
       " 13911,\n",
       " 13934,\n",
       " 13936,\n",
       " 14202,\n",
       " 14233,\n",
       " 14264,\n",
       " 14341,\n",
       " 14389,\n",
       " 14439,\n",
       " 14476,\n",
       " 14500,\n",
       " 14517,\n",
       " 14527,\n",
       " 14542,\n",
       " 14546,\n",
       " 14704,\n",
       " 14745,\n",
       " 14805,\n",
       " 14806,\n",
       " 14836,\n",
       " 14970,\n",
       " 14972,\n",
       " 15008,\n",
       " 15170,\n",
       " 15250,\n",
       " 15369,\n",
       " 15437,\n",
       " 16036,\n",
       " 16132,\n",
       " 16253,\n",
       " 16272,\n",
       " 16511,\n",
       " 16521,\n",
       " 16670,\n",
       " 16743,\n",
       " 16877,\n",
       " 16895,\n",
       " 16921,\n",
       " 16922,\n",
       " 17101,\n",
       " 17131,\n",
       " 17268,\n",
       " 17295,\n",
       " 17347,\n",
       " 17368,\n",
       " 17388,\n",
       " 17391,\n",
       " 17395,\n",
       " 17486,\n",
       " 17710,\n",
       " 17736,\n",
       " 17795,\n",
       " 17874,\n",
       " 18110,\n",
       " 18135,\n",
       " 18154,\n",
       " 18296,\n",
       " 18411,\n",
       " 18489,\n",
       " 18500,\n",
       " 18528,\n",
       " 18599,\n",
       " 18628,\n",
       " 18653,\n",
       " 18716,\n",
       " 18802,\n",
       " 18834,\n",
       " 18911,\n",
       " 18974,\n",
       " 19014,\n",
       " 19266,\n",
       " 19288,\n",
       " 19289,\n",
       " 19349,\n",
       " 19444,\n",
       " 19658,\n",
       " 19878,\n",
       " 20174,\n",
       " 20274,\n",
       " 20283,\n",
       " 20367,\n",
       " 20398,\n",
       " 20542,\n",
       " 20719,\n",
       " 20749,\n",
       " 20814,\n",
       " 21139,\n",
       " 21173,\n",
       " 21404,\n",
       " 21446,\n",
       " 21450,\n",
       " 21490,\n",
       " 21518,\n",
       " 21561,\n",
       " 21650,\n",
       " 21752,\n",
       " 21817,\n",
       " 21869,\n",
       " 22079,\n",
       " 22084,\n",
       " 22183,\n",
       " 22187,\n",
       " 22189,\n",
       " 22364,\n",
       " 22379,\n",
       " 22447,\n",
       " 22484,\n",
       " 22557,\n",
       " 22560,\n",
       " 22565,\n",
       " 22688,\n",
       " 22699,\n",
       " 22830,\n",
       " 22921,\n",
       " 23061,\n",
       " 23177,\n",
       " 23317,\n",
       " 23346,\n",
       " 23388,\n",
       " 23391,\n",
       " 23404,\n",
       " 23552,\n",
       " 23570,\n",
       " 23820,\n",
       " 23831,\n",
       " 23839,\n",
       " 24305,\n",
       " 24411,\n",
       " 24586,\n",
       " 24656,\n",
       " 24751,\n",
       " 24809,\n",
       " 24827,\n",
       " 24900,\n",
       " 25080,\n",
       " 25111,\n",
       " 25160,\n",
       " 25352,\n",
       " 25421,\n",
       " 25425,\n",
       " 25428,\n",
       " 25432,\n",
       " 25435,\n",
       " 25443,\n",
       " 25479,\n",
       " 25489,\n",
       " 25494,\n",
       " 25568,\n",
       " 25857,\n",
       " 25890,\n",
       " 25905,\n",
       " 25917,\n",
       " 26108,\n",
       " 26111,\n",
       " 26115,\n",
       " 26116,\n",
       " 26129,\n",
       " 26133,\n",
       " 26385,\n",
       " 26416,\n",
       " 26603,\n",
       " 26686,\n",
       " 26744,\n",
       " 26816,\n",
       " 26934,\n",
       " 26955,\n",
       " 27164,\n",
       " 27273,\n",
       " 27488,\n",
       " 27525,\n",
       " 27527,\n",
       " 27591,\n",
       " 27740,\n",
       " 27794,\n",
       " 27875,\n",
       " 27983,\n",
       " 28063,\n",
       " 28073,\n",
       " 28134,\n",
       " 28309,\n",
       " 28368,\n",
       " 28656,\n",
       " 28683,\n",
       " 28762,\n",
       " 28819,\n",
       " 28939,\n",
       " 28968,\n",
       " 29115,\n",
       " 29221,\n",
       " 29291,\n",
       " 29472,\n",
       " 29493,\n",
       " 29620,\n",
       " 29891,\n",
       " 29972,\n",
       " 30031,\n",
       " 30090,\n",
       " 30122,\n",
       " 30162,\n",
       " 30173,\n",
       " 30201,\n",
       " 30214,\n",
       " 30228,\n",
       " 30229,\n",
       " 30232,\n",
       " 30296,\n",
       " 30298,\n",
       " 30302,\n",
       " 30308,\n",
       " 30324,\n",
       " 30328,\n",
       " 30383,\n",
       " 30384,\n",
       " 30390,\n",
       " 30399,\n",
       " 30402,\n",
       " 30417,\n",
       " 30481,\n",
       " 30492,\n",
       " 30552,\n",
       " 30556,\n",
       " 30572,\n",
       " 30582,\n",
       " 30704,\n",
       " 30739,\n",
       " 31075,\n",
       " 31080,\n",
       " 31093,\n",
       " 31100,\n",
       " 31104,\n",
       " 31108,\n",
       " 31112,\n",
       " 31116,\n",
       " 31125,\n",
       " 31281,\n",
       " 31397,\n",
       " 31403,\n",
       " 31436,\n",
       " 31625,\n",
       " 31678,\n",
       " 31721,\n",
       " 31895,\n",
       " 31909,\n",
       " 31978,\n",
       " 32271,\n",
       " 32355,\n",
       " 32461,\n",
       " 32471,\n",
       " 32476,\n",
       " 32700,\n",
       " 32766,\n",
       " 32804,\n",
       " 32845,\n",
       " 32861,\n",
       " 32874,\n",
       " 33032,\n",
       " 33063,\n",
       " 33072,\n",
       " 33112,\n",
       " 33180,\n",
       " 33204,\n",
       " 33233,\n",
       " 33311,\n",
       " 33321,\n",
       " 33376,\n",
       " 33377,\n",
       " 33738,\n",
       " 33835,\n",
       " 34121,\n",
       " 34125,\n",
       " 34245,\n",
       " 34254,\n",
       " 34300,\n",
       " 34324,\n",
       " 34335,\n",
       " 34458,\n",
       " 34604,\n",
       " 34713,\n",
       " 34722,\n",
       " 34723,\n",
       " 34785,\n",
       " 34883,\n",
       " 34988,\n",
       " 35009,\n",
       " 35063,\n",
       " 35099,\n",
       " 35113,\n",
       " 35126,\n",
       " 35184,\n",
       " 35257,\n",
       " 35308,\n",
       " 35746,\n",
       " 35813,\n",
       " 36078,\n",
       " 36080,\n",
       " 36171,\n",
       " 36476,\n",
       " 36543,\n",
       " 36547,\n",
       " 36559,\n",
       " 36642,\n",
       " 36767,\n",
       " 36816,\n",
       " 36819,\n",
       " 36852,\n",
       " 36855,\n",
       " 36990,\n",
       " 37065,\n",
       " 37162,\n",
       " 37240,\n",
       " 37401,\n",
       " 37457,\n",
       " 37732,\n",
       " 37763,\n",
       " 37814,\n",
       " 37902,\n",
       " 37963,\n",
       " 38038,\n",
       " 38128,\n",
       " 38181,\n",
       " 38347,\n",
       " 38762,\n",
       " 38909,\n",
       " 38996,\n",
       " 39023,\n",
       " 39057,\n",
       " 39250,\n",
       " 39275,\n",
       " 39401,\n",
       " 39404,\n",
       " 39439,\n",
       " 39519,\n",
       " 39563,\n",
       " 39574,\n",
       " 39612,\n",
       " 39626,\n",
       " 39629,\n",
       " 39805,\n",
       " 39936,\n",
       " 39956,\n",
       " 40154,\n",
       " 40194,\n",
       " 40199,\n",
       " 40224,\n",
       " 40246,\n",
       " 40266,\n",
       " 40293,\n",
       " 40315,\n",
       " 40360,\n",
       " 40391,\n",
       " 40464,\n",
       " 40512,\n",
       " 40555,\n",
       " 40694,\n",
       " 40757,\n",
       " 40945,\n",
       " 41035,\n",
       " 41060,\n",
       " 41157,\n",
       " 41251,\n",
       " 41305,\n",
       " 41485,\n",
       " 41532,\n",
       " 41568,\n",
       " 41577,\n",
       " 41579,\n",
       " 41593,\n",
       " 41602,\n",
       " 41606,\n",
       " 41611,\n",
       " 41636,\n",
       " 41661,\n",
       " 41970,\n",
       " 42001,\n",
       " 42096,\n",
       " 42105,\n",
       " 42122,\n",
       " 42137,\n",
       " 42163,\n",
       " 42180,\n",
       " 42184,\n",
       " 42204,\n",
       " 42234,\n",
       " 42236,\n",
       " 42238,\n",
       " 42242,\n",
       " 42246,\n",
       " 42255,\n",
       " 42256,\n",
       " 42276,\n",
       " 42301,\n",
       " 42305,\n",
       " 42313,\n",
       " 42529,\n",
       " 42540,\n",
       " 42594,\n",
       " 42636,\n",
       " 42754,\n",
       " 42988,\n",
       " 43012,\n",
       " 43058,\n",
       " 43114,\n",
       " 43157,\n",
       " 43345,\n",
       " 43444,\n",
       " 43523,\n",
       " 43664,\n",
       " 43720,\n",
       " 43753,\n",
       " 43754,\n",
       " 43783,\n",
       " 43812,\n",
       " 43858,\n",
       " 43871,\n",
       " 44030,\n",
       " 44158,\n",
       " 44339,\n",
       " 44457,\n",
       " 44600,\n",
       " 44973,\n",
       " 45093,\n",
       " 45096,\n",
       " 45100,\n",
       " 45170,\n",
       " 45171,\n",
       " 45431,\n",
       " 45440,\n",
       " 45540,\n",
       " 45549,\n",
       " 45553,\n",
       " 45559,\n",
       " 45563,\n",
       " 45654,\n",
       " 45668,\n",
       " 45701,\n",
       " 45710,\n",
       " 45711,\n",
       " 45737,\n",
       " 45871,\n",
       " 45878,\n",
       " 45917,\n",
       " 45931,\n",
       " 45933,\n",
       " 46015,\n",
       " 46032,\n",
       " 46048,\n",
       " 46050,\n",
       " 46083,\n",
       " 46161,\n",
       " 46213,\n",
       " 46233,\n",
       " 46241,\n",
       " 46260,\n",
       " 46314,\n",
       " 46323,\n",
       " 46516,\n",
       " 46521,\n",
       " 46557,\n",
       " 46662,\n",
       " 46665,\n",
       " 46668,\n",
       " 46678,\n",
       " 46691,\n",
       " 46900,\n",
       " 46902,\n",
       " 46925,\n",
       " 47092,\n",
       " 47134,\n",
       " 47338,\n",
       " 47526,\n",
       " 47669,\n",
       " 47701,\n",
       " 47769,\n",
       " 47849,\n",
       " 47920,\n",
       " 47947,\n",
       " 48054,\n",
       " 48059,\n",
       " 48096,\n",
       " 48145,\n",
       " 48167,\n",
       " 48280,\n",
       " 48310,\n",
       " 48346,\n",
       " 48373,\n",
       " 48431,\n",
       " 48441,\n",
       " 48599,\n",
       " 48665,\n",
       " 48704,\n",
       " 49040,\n",
       " 49056,\n",
       " 49060,\n",
       " 49076,\n",
       " 49180,\n",
       " 49191,\n",
       " 49318,\n",
       " 49325,\n",
       " 49420,\n",
       " 49460,\n",
       " 49579,\n",
       " 49630,\n",
       " 49655,\n",
       " 49671,\n",
       " 49719,\n",
       " 49759,\n",
       " 49866,\n",
       " 49930,\n",
       " 49958,\n",
       " 50026,\n",
       " 50102,\n",
       " 50457,\n",
       " 50574,\n",
       " 50575,\n",
       " 50683,\n",
       " 50782,\n",
       " 50953,\n",
       " 50981,\n",
       " 51040,\n",
       " 51241,\n",
       " 51415,\n",
       " 51555,\n",
       " 51569,\n",
       " 51578,\n",
       " 51620,\n",
       " 51660,\n",
       " 51772,\n",
       " 51938,\n",
       " 51940,\n",
       " 51953,\n",
       " 51988,\n",
       " 51992,\n",
       " 52052,\n",
       " 52126,\n",
       " 52131,\n",
       " 52194,\n",
       " 52222,\n",
       " 52256,\n",
       " 52282,\n",
       " 52359,\n",
       " 52396,\n",
       " 52502,\n",
       " 52658,\n",
       " 52780,\n",
       " 52879,\n",
       " 52955,\n",
       " 52965,\n",
       " 53027,\n",
       " 53185,\n",
       " 53204,\n",
       " 53304,\n",
       " 53407,\n",
       " 53469,\n",
       " 53489,\n",
       " 53528,\n",
       " 53550,\n",
       " 53597,\n",
       " 53617,\n",
       " 53623,\n",
       " 53678,\n",
       " 53844,\n",
       " 53853,\n",
       " 53856,\n",
       " 53892,\n",
       " 53912,\n",
       " 53943,\n",
       " 54050,\n",
       " 54101,\n",
       " 54119,\n",
       " 54302,\n",
       " 54314,\n",
       " 54316,\n",
       " 54355,\n",
       " 54481,\n",
       " 54514,\n",
       " 54558,\n",
       " 54838,\n",
       " 54859,\n",
       " 54878,\n",
       " 55084,\n",
       " 55134,\n",
       " 55194,\n",
       " 55263,\n",
       " 55269,\n",
       " 55389,\n",
       " 55589,\n",
       " 55600,\n",
       " 55747,\n",
       " 55754,\n",
       " 55867,\n",
       " 55980,\n",
       " 55982,\n",
       " 56084,\n",
       " 56173,\n",
       " 56230,\n",
       " 56391,\n",
       " 56410,\n",
       " 56589,\n",
       " 56663,\n",
       " 56707,\n",
       " 56773,\n",
       " 57008,\n",
       " 57202,\n",
       " 57208,\n",
       " 57372,\n",
       " 57386,\n",
       " 57613,\n",
       " 57731,\n",
       " 57805,\n",
       " 57925,\n",
       " 57964,\n",
       " 58024,\n",
       " 58243,\n",
       " 58450,\n",
       " 58451,\n",
       " 58481,\n",
       " 58482,\n",
       " 58490,\n",
       " 58494,\n",
       " 58495,\n",
       " 58571,\n",
       " 58680,\n",
       " 58734,\n",
       " 58777,\n",
       " 58824,\n",
       " 58864,\n",
       " 58965,\n",
       " 58973,\n",
       " 59008,\n",
       " 59215,\n",
       " 59287,\n",
       " 59328,\n",
       " 59519,\n",
       " 59545,\n",
       " 59564,\n",
       " 59570,\n",
       " 59653,\n",
       " 59654,\n",
       " 59662,\n",
       " 59943,\n",
       " 59944,\n",
       " 59954,\n",
       " 60050,\n",
       " 60111,\n",
       " 60141,\n",
       " 60790,\n",
       " 60791,\n",
       " 61019,\n",
       " 61048,\n",
       " 61227,\n",
       " 61295,\n",
       " 61618,\n",
       " 61627,\n",
       " 61638,\n",
       " 61684,\n",
       " 61796,\n",
       " 61802,\n",
       " 61830,\n",
       " 61890,\n",
       " 61992,\n",
       " 62119,\n",
       " 62132,\n",
       " 62289,\n",
       " 62368,\n",
       " 62384,\n",
       " 62478,\n",
       " 62497,\n",
       " 62500,\n",
       " 62505,\n",
       " 62510,\n",
       " 62529,\n",
       " 62559,\n",
       " 62584,\n",
       " 62668,\n",
       " 62755,\n",
       " 62775,\n",
       " 62801,\n",
       " 62855,\n",
       " 63007,\n",
       " 63141,\n",
       " 63578,\n",
       " 63696,\n",
       " 63715,\n",
       " 63924,\n",
       " 63931,\n",
       " 63988,\n",
       " 64067,\n",
       " 64211,\n",
       " 64503,\n",
       " 65147,\n",
       " 65243,\n",
       " 65307,\n",
       " 65421,\n",
       " 65470,\n",
       " 65522,\n",
       " 65525,\n",
       " 65587,\n",
       " 65604,\n",
       " 65735,\n",
       " 65759,\n",
       " 65794,\n",
       " 65802,\n",
       " 65856,\n",
       " 65857,\n",
       " 65865,\n",
       " 65879,\n",
       " 65949,\n",
       " 66019,\n",
       " 66150,\n",
       " 66166,\n",
       " 66167,\n",
       " 66176,\n",
       " 66467,\n",
       " 66550,\n",
       " 66595,\n",
       " 66727,\n",
       " 66827,\n",
       " 66832,\n",
       " 66834,\n",
       " 66887,\n",
       " 67050,\n",
       " 67242,\n",
       " 67367,\n",
       " 67392,\n",
       " 67413,\n",
       " 67571,\n",
       " 67660,\n",
       " 68010,\n",
       " 68059,\n",
       " 68110,\n",
       " 68363,\n",
       " 68376,\n",
       " 68405,\n",
       " 68437,\n",
       " 68559,\n",
       " 68606,\n",
       " 69009,\n",
       " 69162,\n",
       " 69218,\n",
       " 69339,\n",
       " 69346,\n",
       " 69394,\n",
       " 69449,\n",
       " 69598,\n",
       " 69663,\n",
       " 69687,\n",
       " 69704,\n",
       " 69745,\n",
       " 69769,\n",
       " 69798,\n",
       " 69819,\n",
       " 69856,\n",
       " 69866,\n",
       " 69888,\n",
       " 69947,\n",
       " 69988,\n",
       " 70031,\n",
       " 70056,\n",
       " 70113,\n",
       " 70138,\n",
       " 70211,\n",
       " 70249,\n",
       " 70252,\n",
       " 70322,\n",
       " 70326,\n",
       " 70423,\n",
       " 70426,\n",
       " 70429,\n",
       " 70488,\n",
       " 70557,\n",
       " 70583,\n",
       " 70613,\n",
       " 70630,\n",
       " 70705,\n",
       " 70712,\n",
       " 70721,\n",
       " 70817,\n",
       " 70910,\n",
       " 70938,\n",
       " 71012,\n",
       " 71021,\n",
       " 71032,\n",
       " 71358,\n",
       " 71384,\n",
       " 71402,\n",
       " 71436,\n",
       " 71453,\n",
       " 71460,\n",
       " 71495,\n",
       " 71528,\n",
       " 71665,\n",
       " 71862,\n",
       " 72034,\n",
       " 72052,\n",
       " 72081,\n",
       " 72274,\n",
       " 72361,\n",
       " 72364,\n",
       " 72368,\n",
       " 72408,\n",
       " 72446,\n",
       " 72458,\n",
       " 72465,\n",
       " 72636,\n",
       " 72763,\n",
       " 72824,\n",
       " 72878,\n",
       " 72887,\n",
       " 72913,\n",
       " 73035,\n",
       " 73116,\n",
       " 73387,\n",
       " 73502,\n",
       " 73561,\n",
       " 73591,\n",
       " 74202,\n",
       " 74248,\n",
       " 74474,\n",
       " 74475,\n",
       " 74612,\n",
       " 74618,\n",
       " 74622,\n",
       " 74623,\n",
       " 74783,\n",
       " 74935,\n",
       " 74975,\n",
       " 74982,\n",
       " 75105,\n",
       " 75651,\n",
       " 75662,\n",
       " 75786,\n",
       " 75797,\n",
       " 75803,\n",
       " 75882,\n",
       " 75886,\n",
       " ...]"
      ]
     },
     "execution_count": 70,
     "metadata": {},
     "output_type": "execute_result"
    }
   ],
   "source": [
    "no_info"
   ]
  },
  {
   "cell_type": "code",
   "execution_count": 71,
   "metadata": {},
   "outputs": [
    {
     "data": {
      "text/plain": [
       "'ford'"
      ]
     },
     "execution_count": 71,
     "metadata": {},
     "output_type": "execute_result"
    }
   ],
   "source": [
    "data.loc[5, 'make']"
   ]
  },
  {
   "cell_type": "code",
   "execution_count": 85,
   "metadata": {},
   "outputs": [],
   "source": [
    "def get_make_popular_model(make):\n",
    "    \n",
    "    return data.groupby('make').get_group(make)['model'].value_counts().index[0]\n",
    "    "
   ]
  },
  {
   "cell_type": "code",
   "execution_count": 86,
   "metadata": {},
   "outputs": [
    {
     "data": {
      "text/plain": [
       "'f-150'"
      ]
     },
     "execution_count": 86,
     "metadata": {},
     "output_type": "execute_result"
    }
   ],
   "source": [
    "get_make_popular_model('ford')"
   ]
  },
  {
   "cell_type": "code",
   "execution_count": 89,
   "metadata": {},
   "outputs": [],
   "source": [
    "make_best_model = dict()\n",
    "for make in data['make'].value_counts().index:\n",
    "    make_best_model[make] = get_make_popular_model(make)"
   ]
  },
  {
   "cell_type": "code",
   "execution_count": 91,
   "metadata": {},
   "outputs": [],
   "source": [
    "for i in range(0, len(models)):\n",
    "    if pd.isnull(models[i]):\n",
    "        models[i] = make_best_model[makes[i]]\n"
   ]
  },
  {
   "cell_type": "code",
   "execution_count": 92,
   "metadata": {},
   "outputs": [],
   "source": [
    "data['model'] = models"
   ]
  },
  {
   "cell_type": "code",
   "execution_count": 93,
   "metadata": {},
   "outputs": [
    {
     "data": {
      "text/plain": [
       "0"
      ]
     },
     "execution_count": 93,
     "metadata": {},
     "output_type": "execute_result"
    }
   ],
   "source": [
    "data.isnull().sum(axis = 0)['model']"
   ]
  },
  {
   "cell_type": "code",
   "execution_count": 94,
   "metadata": {},
   "outputs": [
    {
     "data": {
      "text/plain": [
       "id                   0\n",
       "url                  0\n",
       "region               0\n",
       "region_url           0\n",
       "price                0\n",
       "year                 0\n",
       "make                 0\n",
       "model                0\n",
       "condition       179689\n",
       "cylinders       160750\n",
       "fuel              2829\n",
       "odometer             0\n",
       "title_status      1664\n",
       "transmission      2023\n",
       "vin             192529\n",
       "drive           118802\n",
       "size            286405\n",
       "type            114053\n",
       "paint_color     131623\n",
       "image_url           22\n",
       "description         25\n",
       "state                0\n",
       "lat               8075\n",
       "long              8075\n",
       "dtype: int64"
      ]
     },
     "execution_count": 94,
     "metadata": {},
     "output_type": "execute_result"
    }
   ],
   "source": [
    "data.isnull().sum(axis = 0)"
   ]
  },
  {
   "cell_type": "code",
   "execution_count": 95,
   "metadata": {},
   "outputs": [
    {
     "data": {
      "text/plain": [
       "excellent    116141\n",
       "good          92947\n",
       "like new      26431\n",
       "fair           6958\n",
       "new            1123\n",
       "salvage         695\n",
       "Name: condition, dtype: int64"
      ]
     },
     "execution_count": 95,
     "metadata": {},
     "output_type": "execute_result"
    }
   ],
   "source": [
    "data.condition.value_counts()"
   ]
  },
  {
   "cell_type": "code",
   "execution_count": 96,
   "metadata": {},
   "outputs": [],
   "source": [
    "data['condition'] = data['condition'].apply(fill, fill_in='excellent')"
   ]
  },
  {
   "cell_type": "code",
   "execution_count": 97,
   "metadata": {},
   "outputs": [
    {
     "data": {
      "text/plain": [
       "0"
      ]
     },
     "execution_count": 97,
     "metadata": {},
     "output_type": "execute_result"
    }
   ],
   "source": [
    "data.isnull().sum(axis = 0)['condition']"
   ]
  },
  {
   "cell_type": "code",
   "execution_count": 98,
   "metadata": {},
   "outputs": [
    {
     "data": {
      "text/plain": [
       "id                int64\n",
       "url              object\n",
       "region           object\n",
       "region_url       object\n",
       "price             int64\n",
       "year            float64\n",
       "make             object\n",
       "model            object\n",
       "condition        object\n",
       "cylinders        object\n",
       "fuel             object\n",
       "odometer        float64\n",
       "title_status     object\n",
       "transmission     object\n",
       "vin              object\n",
       "drive            object\n",
       "size             object\n",
       "type             object\n",
       "paint_color      object\n",
       "image_url        object\n",
       "description      object\n",
       "state            object\n",
       "lat             float64\n",
       "long            float64\n",
       "dtype: object"
      ]
     },
     "execution_count": 98,
     "metadata": {},
     "output_type": "execute_result"
    }
   ],
   "source": [
    "data.dtypes"
   ]
  },
  {
   "cell_type": "code",
   "execution_count": 99,
   "metadata": {},
   "outputs": [
    {
     "data": {
      "text/plain": [
       "6 cylinders     93704\n",
       "4 cylinders     85818\n",
       "8 cylinders     78173\n",
       "5 cylinders      2412\n",
       "10 cylinders     1497\n",
       "other             972\n",
       "3 cylinders       527\n",
       "12 cylinders      131\n",
       "Name: cylinders, dtype: int64"
      ]
     },
     "execution_count": 99,
     "metadata": {},
     "output_type": "execute_result"
    }
   ],
   "source": [
    "data.cylinders.value_counts()"
   ]
  },
  {
   "cell_type": "code",
   "execution_count": 100,
   "metadata": {},
   "outputs": [],
   "source": [
    "data['cylinders'] = data['cylinders'].apply(fill, fill_in='6 cylinders')"
   ]
  },
  {
   "cell_type": "code",
   "execution_count": 101,
   "metadata": {},
   "outputs": [
    {
     "data": {
      "text/plain": [
       "0"
      ]
     },
     "execution_count": 101,
     "metadata": {},
     "output_type": "execute_result"
    }
   ],
   "source": [
    "data.isnull().sum(axis = 0)['cylinders']"
   ]
  },
  {
   "cell_type": "code",
   "execution_count": 102,
   "metadata": {},
   "outputs": [
    {
     "data": {
      "text/plain": [
       "gas         370007\n",
       "diesel       33224\n",
       "other        12847\n",
       "hybrid        4234\n",
       "electric       843\n",
       "Name: fuel, dtype: int64"
      ]
     },
     "execution_count": 102,
     "metadata": {},
     "output_type": "execute_result"
    }
   ],
   "source": [
    "data.fuel.value_counts()"
   ]
  },
  {
   "cell_type": "code",
   "execution_count": 103,
   "metadata": {},
   "outputs": [],
   "source": [
    "data['fuel'] = data['fuel'].apply(fill, fill_in='gas')"
   ]
  },
  {
   "cell_type": "code",
   "execution_count": 110,
   "metadata": {},
   "outputs": [
    {
     "data": {
      "text/plain": [
       "clean         403138\n",
       "rebuilt        11579\n",
       "salvage         5535\n",
       "lien            2688\n",
       "missing          757\n",
       "parts only       287\n",
       "Name: title_status, dtype: int64"
      ]
     },
     "execution_count": 110,
     "metadata": {},
     "output_type": "execute_result"
    }
   ],
   "source": [
    "data.title_status.value_counts()"
   ]
  },
  {
   "cell_type": "code",
   "execution_count": 109,
   "metadata": {},
   "outputs": [],
   "source": [
    "x = list(data['title_status'])\n",
    "for status in range (0,len(x)):\n",
    "    if x[status] == 'gas':\n",
    "        x[status] = 'clean'\n",
    "data['title_status'] = x        \n",
    "#data['title_status'] = data['title_status'].apply(fill, fill_in='clean')"
   ]
  },
  {
   "cell_type": "code",
   "execution_count": 106,
   "metadata": {},
   "outputs": [
    {
     "data": {
      "text/plain": [
       "id                   0\n",
       "url                  0\n",
       "region               0\n",
       "region_url           0\n",
       "price                0\n",
       "year                 0\n",
       "make                 0\n",
       "model                0\n",
       "condition            0\n",
       "cylinders            0\n",
       "fuel                 0\n",
       "odometer             0\n",
       "title_status         0\n",
       "transmission      2023\n",
       "vin             192529\n",
       "drive           118802\n",
       "size            286405\n",
       "type            114053\n",
       "paint_color     131623\n",
       "image_url           22\n",
       "description         25\n",
       "state                0\n",
       "lat               8075\n",
       "long              8075\n",
       "dtype: int64"
      ]
     },
     "execution_count": 106,
     "metadata": {},
     "output_type": "execute_result"
    }
   ],
   "source": [
    "data.isnull().sum(axis = 0)"
   ]
  },
  {
   "cell_type": "code",
   "execution_count": 107,
   "metadata": {},
   "outputs": [
    {
     "data": {
      "text/plain": [
       "automatic    376920\n",
       "manual        27970\n",
       "other         17071\n",
       "Name: transmission, dtype: int64"
      ]
     },
     "execution_count": 107,
     "metadata": {},
     "output_type": "execute_result"
    }
   ],
   "source": [
    "data.transmission.value_counts()"
   ]
  },
  {
   "cell_type": "code",
   "execution_count": 111,
   "metadata": {},
   "outputs": [],
   "source": [
    "data['transmission'] = data['transmission'].apply(fill, fill_in='automatic')"
   ]
  },
  {
   "cell_type": "code",
   "execution_count": 112,
   "metadata": {},
   "outputs": [],
   "source": [
    "data.drop('vin', inplace=True, axis=1)"
   ]
  },
  {
   "cell_type": "code",
   "execution_count": 113,
   "metadata": {},
   "outputs": [
    {
     "data": {
      "text/plain": [
       "4wd    136072\n",
       "fwd    110886\n",
       "rwd     58224\n",
       "Name: drive, dtype: int64"
      ]
     },
     "execution_count": 113,
     "metadata": {},
     "output_type": "execute_result"
    }
   ],
   "source": [
    "data.drive.value_counts()"
   ]
  },
  {
   "cell_type": "code",
   "execution_count": 114,
   "metadata": {},
   "outputs": [],
   "source": [
    "data['drive'] = data['drive'].apply(fill, fill_in='4wd')"
   ]
  },
  {
   "cell_type": "code",
   "execution_count": 116,
   "metadata": {},
   "outputs": [
    {
     "data": {
      "text/plain": [
       "full-size      73692\n",
       "mid-size       39949\n",
       "compact        20788\n",
       "sub-compact     3150\n",
       "Name: size, dtype: int64"
      ]
     },
     "execution_count": 116,
     "metadata": {},
     "output_type": "execute_result"
    }
   ],
   "source": [
    "data['size'].value_counts()"
   ]
  },
  {
   "cell_type": "code",
   "execution_count": 117,
   "metadata": {},
   "outputs": [],
   "source": [
    "data['size'] = data['size'].apply(fill, fill_in='full-size')"
   ]
  },
  {
   "cell_type": "code",
   "execution_count": 118,
   "metadata": {},
   "outputs": [
    {
     "data": {
      "text/plain": [
       "id                   0\n",
       "url                  0\n",
       "region               0\n",
       "region_url           0\n",
       "price                0\n",
       "year                 0\n",
       "make                 0\n",
       "model                0\n",
       "condition            0\n",
       "cylinders            0\n",
       "fuel                 0\n",
       "odometer             0\n",
       "title_status         0\n",
       "transmission         0\n",
       "drive                0\n",
       "size                 0\n",
       "type            114053\n",
       "paint_color     131623\n",
       "image_url           22\n",
       "description         25\n",
       "state                0\n",
       "lat               8075\n",
       "long              8075\n",
       "dtype: int64"
      ]
     },
     "execution_count": 118,
     "metadata": {},
     "output_type": "execute_result"
    }
   ],
   "source": [
    "data.isnull().sum(axis = 0)"
   ]
  },
  {
   "cell_type": "code",
   "execution_count": 120,
   "metadata": {},
   "outputs": [
    {
     "data": {
      "text/plain": [
       "sedan          79345\n",
       "SUV            78618\n",
       "pickup         38510\n",
       "truck          37364\n",
       "coupe          16500\n",
       "other          12395\n",
       "hatchback      12356\n",
       "wagon           9842\n",
       "van             9822\n",
       "convertible     8197\n",
       "mini-van        5892\n",
       "offroad          624\n",
       "bus              466\n",
       "Name: type, dtype: int64"
      ]
     },
     "execution_count": 120,
     "metadata": {},
     "output_type": "execute_result"
    }
   ],
   "source": [
    "data.type.value_counts()"
   ]
  },
  {
   "cell_type": "code",
   "execution_count": null,
   "metadata": {},
   "outputs": [],
   "source": [
    "data['size'] = data['size'].apply(fill, fill_in='full-size')"
   ]
  },
  {
   "cell_type": "code",
   "execution_count": 121,
   "metadata": {},
   "outputs": [],
   "source": [
    "import random"
   ]
  },
  {
   "cell_type": "code",
   "execution_count": 127,
   "metadata": {},
   "outputs": [],
   "source": [
    "types = list(data.type)\n",
    "for i in range(0, len(types)):\n",
    "    if pd.isnull(types[i]):\n",
    "        if random.randint(0,1) == 0:\n",
    "            types[i] = 'sedan'\n",
    "        else:\n",
    "            types[i] = 'SUV'"
   ]
  },
  {
   "cell_type": "code",
   "execution_count": 128,
   "metadata": {},
   "outputs": [],
   "source": [
    "data['type'] = types"
   ]
  },
  {
   "cell_type": "code",
   "execution_count": 129,
   "metadata": {},
   "outputs": [
    {
     "data": {
      "text/plain": [
       "0"
      ]
     },
     "execution_count": 129,
     "metadata": {},
     "output_type": "execute_result"
    }
   ],
   "source": [
    "data.isnull().sum(axis = 0)['type']"
   ]
  },
  {
   "cell_type": "code",
   "execution_count": 130,
   "metadata": {},
   "outputs": [
    {
     "data": {
      "text/plain": [
       "id                   0\n",
       "url                  0\n",
       "region               0\n",
       "region_url           0\n",
       "price                0\n",
       "year                 0\n",
       "make                 0\n",
       "model                0\n",
       "condition            0\n",
       "cylinders            0\n",
       "fuel                 0\n",
       "odometer             0\n",
       "title_status         0\n",
       "transmission         0\n",
       "drive                0\n",
       "size                 0\n",
       "type                 0\n",
       "paint_color     131623\n",
       "image_url           22\n",
       "description         25\n",
       "state                0\n",
       "lat               8075\n",
       "long              8075\n",
       "dtype: int64"
      ]
     },
     "execution_count": 130,
     "metadata": {},
     "output_type": "execute_result"
    }
   ],
   "source": [
    "data.isnull().sum(axis = 0)"
   ]
  },
  {
   "cell_type": "code",
   "execution_count": 131,
   "metadata": {},
   "outputs": [
    {
     "data": {
      "text/plain": [
       "white     77144\n",
       "black     57404\n",
       "silver    44104\n",
       "blue      29969\n",
       "grey      29730\n",
       "red       28375\n",
       "green      7469\n",
       "custom     7116\n",
       "brown      6467\n",
       "yellow     2016\n",
       "orange     1857\n",
       "purple      710\n",
       "Name: paint_color, dtype: int64"
      ]
     },
     "execution_count": 131,
     "metadata": {},
     "output_type": "execute_result"
    }
   ],
   "source": [
    "data.paint_color.value_counts()"
   ]
  },
  {
   "cell_type": "code",
   "execution_count": 132,
   "metadata": {},
   "outputs": [],
   "source": [
    "data['paint_color'] = data['paint_color'].apply(fill, fill_in='black')"
   ]
  },
  {
   "cell_type": "code",
   "execution_count": 134,
   "metadata": {},
   "outputs": [],
   "source": [
    "data.drop(['image_url','lat', 'long'], axis=1, inplace=True)"
   ]
  },
  {
   "cell_type": "code",
   "execution_count": 135,
   "metadata": {},
   "outputs": [],
   "source": [
    "data.to_csv('vehicles.csv', index=False)"
   ]
  }
 ],
 "metadata": {
  "kernelspec": {
   "display_name": "Python 3",
   "language": "python",
   "name": "python3"
  },
  "language_info": {
   "codemirror_mode": {
    "name": "ipython",
    "version": 3
   },
   "file_extension": ".py",
   "mimetype": "text/x-python",
   "name": "python",
   "nbconvert_exporter": "python",
   "pygments_lexer": "ipython3",
   "version": "3.8.3"
  }
 },
 "nbformat": 4,
 "nbformat_minor": 4
}
