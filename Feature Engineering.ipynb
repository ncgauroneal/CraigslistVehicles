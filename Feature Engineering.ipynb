{
 "cells": [
  {
   "cell_type": "code",
   "execution_count": 1,
   "metadata": {},
   "outputs": [],
   "source": [
    "import pandas as pd\n",
    "import seaborn as sns\n",
    "import numpy as np\n",
    "import matplotlib.pyplot as plt"
   ]
  },
  {
   "cell_type": "code",
   "execution_count": 2,
   "metadata": {},
   "outputs": [],
   "source": [
    "data = pd.read_csv('model_data.csv')"
   ]
  },
  {
   "cell_type": "code",
   "execution_count": 3,
   "metadata": {},
   "outputs": [
    {
     "data": {
      "text/plain": [
       "Index(['id', 'url', 'region', 'region_url', 'price', 'year', 'make', 'model',\n",
       "       'condition', 'cylinders', 'fuel', 'odometer', 'title_status',\n",
       "       'transmission', 'drive', 'size', 'type', 'paint_color', 'description',\n",
       "       'state', 'age', 'distance_per_year', 'make_median_price',\n",
       "       'model_median_price'],\n",
       "      dtype='object')"
      ]
     },
     "execution_count": 3,
     "metadata": {},
     "output_type": "execute_result"
    }
   ],
   "source": [
    "data.columns"
   ]
  },
  {
   "cell_type": "code",
   "execution_count": 4,
   "metadata": {},
   "outputs": [],
   "source": [
    "''' Use different column names to split data and get median price from those columns, but made to get any value from any data'''\n",
    "# @params \n",
    "# g is a dataframe\n",
    "\n",
    "def get_group_value(data, group, operation, value):\n",
    "    \n",
    "    g = data.get_group(group)\n",
    "    struct = dict()\n",
    "    if operation == 'median':\n",
    "        struct[group] = np.median(g[value]) # could cause error with None Types\n",
    "    elif operation == 'mean':\n",
    "        struct[group] = np.mean(g[value])\n",
    "    elif operation == 'count':\n",
    "        struct[group] = g.shape[0]\n",
    "    return round(struct[group], 2)"
   ]
  },
  {
   "cell_type": "code",
   "execution_count": 5,
   "metadata": {},
   "outputs": [],
   "source": [
    "def add_column(data, variable, column_name, struct):\n",
    "    \n",
    "    # variable is manufacturer for first one\n",
    "    column = create_data(data[variable], struct) # creates the list which will become the column\n",
    "    \n",
    "    '''\n",
    "    if column_name == 'manufacturer':\n",
    "        column = add_manufacturers(data.manufacturer, struct)\n",
    "    elif column_name == 'model':\n",
    "        column = add_models(data.models)\n",
    "    elif column_name == 'condition':\n",
    "        column = add_conditions(data.conditions)\n",
    "    elif column_name == 'state':\n",
    "        column = add_states(data.state)\n",
    "    elif column_name == 'title':\n",
    "        column = add_titles(data.title)\n",
    "    elif column_name == 'fuel':\n",
    "        column = add_fuel(data.fuel)\n",
    "    elif column_name == 'transmission':\n",
    "        column = add_transmission(data.transmission)\n",
    "    elif column_name == 'size':\n",
    "        column = add_size(data.size)\n",
    "    elif column_name == 'drive':\n",
    "        column = add_drive(data.drive)\n",
    "    elif column_name == 'type':\n",
    "        column = add_type(data.type)\n",
    "    '''\n",
    "    \n",
    "    data[column_name] = column    "
   ]
  },
  {
   "cell_type": "code",
   "execution_count": 6,
   "metadata": {},
   "outputs": [],
   "source": [
    "def create_data(data, struct):\n",
    "    \n",
    "    column_values = list(data) # all the manufacturer values\n",
    "    out = list(range(0, len(column_values)))\n",
    "    i = 0\n",
    "    for value in column_values:\n",
    "        if value is None:\n",
    "            i += 1\n",
    "            continue\n",
    "        try:\n",
    "            out[i] = struct[value]\n",
    "        except:\n",
    "            out[i] = None\n",
    "        i += 1\n",
    "        \n",
    "    return out"
   ]
  },
  {
   "cell_type": "code",
   "execution_count": 7,
   "metadata": {},
   "outputs": [],
   "source": [
    "\n",
    "#Function Create New Features based on mean, median \n",
    "columns = ['state']\n",
    "operations = ['median']\n",
    "\n",
    "for operation in operations:\n",
    "    #print('Operation')\n",
    "    for column in columns:\n",
    "        #print('Column: ' + column)\n",
    "        # get all the unique values for a certain column\n",
    "        unique_values = list(data[column].value_counts().index) \n",
    "        # grab the data segment for that column\n",
    "        struct = dict()\n",
    "        col_data = data.groupby(column)\n",
    "        for unique_value in unique_values:\n",
    "            if unique_value is None:\n",
    "                continue\n",
    "        # for every unique value in the specific column find the median price for the reselting data segment\n",
    "            struct[unique_value] = get_group_value(col_data, unique_value, operation,'price')\n",
    "        column_name = column + '_' + operation + '_' + 'price'\n",
    "    # adds a new column to the original dataset\n",
    "        add_column(data, column, column_name, struct)\n"
   ]
  },
  {
   "cell_type": "code",
   "execution_count": 8,
   "metadata": {},
   "outputs": [
    {
     "data": {
      "text/plain": [
       "Index(['id', 'url', 'region', 'region_url', 'price', 'year', 'make', 'model',\n",
       "       'condition', 'cylinders', 'fuel', 'odometer', 'title_status',\n",
       "       'transmission', 'drive', 'size', 'type', 'paint_color', 'description',\n",
       "       'state', 'age', 'distance_per_year', 'make_median_price',\n",
       "       'model_median_price', 'state_median_price'],\n",
       "      dtype='object')"
      ]
     },
     "execution_count": 8,
     "metadata": {},
     "output_type": "execute_result"
    }
   ],
   "source": [
    "data.columns"
   ]
  },
  {
   "cell_type": "code",
   "execution_count": 9,
   "metadata": {},
   "outputs": [],
   "source": [
    "data.to_csv('model_data.csv', index=False)"
   ]
  },
  {
   "cell_type": "code",
   "execution_count": 9,
   "metadata": {},
   "outputs": [],
   "source": [
    "data['age'] = 2021 - data['year']\n",
    "#data['odometer']/data['age']"
   ]
  },
  {
   "cell_type": "code",
   "execution_count": 10,
   "metadata": {},
   "outputs": [
    {
     "data": {
      "text/plain": [
       "0          9.0\n",
       "1          7.0\n",
       "2         20.0\n",
       "3         17.0\n",
       "4         16.0\n",
       "          ... \n",
       "379836    16.0\n",
       "379837    19.0\n",
       "379838    20.0\n",
       "379839     8.0\n",
       "379840    11.0\n",
       "Name: age, Length: 379841, dtype: float64"
      ]
     },
     "execution_count": 10,
     "metadata": {},
     "output_type": "execute_result"
    }
   ],
   "source": [
    "data.age"
   ]
  },
  {
   "cell_type": "code",
   "execution_count": 11,
   "metadata": {},
   "outputs": [],
   "source": [
    "data['distance_per_year'] = round(data['odometer']/data['age'], 2)"
   ]
  },
  {
   "cell_type": "code",
   "execution_count": 12,
   "metadata": {},
   "outputs": [
    {
     "data": {
      "text/plain": [
       "0         10333.33\n",
       "1         10891.00\n",
       "2          9950.00\n",
       "3          3176.47\n",
       "4          3925.00\n",
       "            ...   \n",
       "379836    17679.12\n",
       "379837    10210.53\n",
       "379838     6524.20\n",
       "379839    11667.38\n",
       "379840    13520.09\n",
       "Name: distance_per_year, Length: 379841, dtype: float64"
      ]
     },
     "execution_count": 12,
     "metadata": {},
     "output_type": "execute_result"
    }
   ],
   "source": [
    "data.distance_per_year"
   ]
  },
  {
   "cell_type": "code",
   "execution_count": 22,
   "metadata": {},
   "outputs": [],
   "source": [
    "data.to_csv('model_data.csv', index=False)"
   ]
  },
  {
   "cell_type": "code",
   "execution_count": 14,
   "metadata": {},
   "outputs": [],
   "source": [
    "corr = data.corr()"
   ]
  },
  {
   "cell_type": "code",
   "execution_count": 15,
   "metadata": {},
   "outputs": [
    {
     "data": {
      "text/html": [
       "<div>\n",
       "<style scoped>\n",
       "    .dataframe tbody tr th:only-of-type {\n",
       "        vertical-align: middle;\n",
       "    }\n",
       "\n",
       "    .dataframe tbody tr th {\n",
       "        vertical-align: top;\n",
       "    }\n",
       "\n",
       "    .dataframe thead th {\n",
       "        text-align: right;\n",
       "    }\n",
       "</style>\n",
       "<table border=\"1\" class=\"dataframe\">\n",
       "  <thead>\n",
       "    <tr style=\"text-align: right;\">\n",
       "      <th></th>\n",
       "      <th>id</th>\n",
       "      <th>price</th>\n",
       "      <th>year</th>\n",
       "      <th>odometer</th>\n",
       "      <th>age</th>\n",
       "      <th>distance_per_year</th>\n",
       "      <th>make_median_price</th>\n",
       "      <th>model_median_price</th>\n",
       "    </tr>\n",
       "  </thead>\n",
       "  <tbody>\n",
       "    <tr>\n",
       "      <th>id</th>\n",
       "      <td>1.000000</td>\n",
       "      <td>-0.063512</td>\n",
       "      <td>-0.019665</td>\n",
       "      <td>0.002767</td>\n",
       "      <td>0.019665</td>\n",
       "      <td>-0.014546</td>\n",
       "      <td>-0.035465</td>\n",
       "      <td>-0.060265</td>\n",
       "    </tr>\n",
       "    <tr>\n",
       "      <th>price</th>\n",
       "      <td>-0.063512</td>\n",
       "      <td>1.000000</td>\n",
       "      <td>0.330990</td>\n",
       "      <td>-0.234477</td>\n",
       "      <td>-0.330990</td>\n",
       "      <td>0.058029</td>\n",
       "      <td>0.297773</td>\n",
       "      <td>0.709458</td>\n",
       "    </tr>\n",
       "    <tr>\n",
       "      <th>year</th>\n",
       "      <td>-0.019665</td>\n",
       "      <td>0.330990</td>\n",
       "      <td>1.000000</td>\n",
       "      <td>-0.162086</td>\n",
       "      <td>-1.000000</td>\n",
       "      <td>0.253600</td>\n",
       "      <td>0.011164</td>\n",
       "      <td>0.177619</td>\n",
       "    </tr>\n",
       "    <tr>\n",
       "      <th>odometer</th>\n",
       "      <td>0.002767</td>\n",
       "      <td>-0.234477</td>\n",
       "      <td>-0.162086</td>\n",
       "      <td>1.000000</td>\n",
       "      <td>0.162086</td>\n",
       "      <td>0.617287</td>\n",
       "      <td>0.018788</td>\n",
       "      <td>-0.101689</td>\n",
       "    </tr>\n",
       "    <tr>\n",
       "      <th>age</th>\n",
       "      <td>0.019665</td>\n",
       "      <td>-0.330990</td>\n",
       "      <td>-1.000000</td>\n",
       "      <td>0.162086</td>\n",
       "      <td>1.000000</td>\n",
       "      <td>-0.253600</td>\n",
       "      <td>-0.011164</td>\n",
       "      <td>-0.177619</td>\n",
       "    </tr>\n",
       "  </tbody>\n",
       "</table>\n",
       "</div>"
      ],
      "text/plain": [
       "                id     price      year  odometer       age  distance_per_year  \\\n",
       "id        1.000000 -0.063512 -0.019665  0.002767  0.019665          -0.014546   \n",
       "price    -0.063512  1.000000  0.330990 -0.234477 -0.330990           0.058029   \n",
       "year     -0.019665  0.330990  1.000000 -0.162086 -1.000000           0.253600   \n",
       "odometer  0.002767 -0.234477 -0.162086  1.000000  0.162086           0.617287   \n",
       "age       0.019665 -0.330990 -1.000000  0.162086  1.000000          -0.253600   \n",
       "\n",
       "          make_median_price  model_median_price  \n",
       "id                -0.035465           -0.060265  \n",
       "price              0.297773            0.709458  \n",
       "year               0.011164            0.177619  \n",
       "odometer           0.018788           -0.101689  \n",
       "age               -0.011164           -0.177619  "
      ]
     },
     "execution_count": 15,
     "metadata": {},
     "output_type": "execute_result"
    }
   ],
   "source": [
    "corr.head()"
   ]
  },
  {
   "cell_type": "code",
   "execution_count": 16,
   "metadata": {},
   "outputs": [
    {
     "data": {
      "text/plain": [
       "id                   -0.063512\n",
       "price                 1.000000\n",
       "year                  0.330990\n",
       "odometer             -0.234477\n",
       "age                  -0.330990\n",
       "distance_per_year     0.058029\n",
       "make_median_price     0.297773\n",
       "model_median_price    0.709458\n",
       "Name: price, dtype: float64"
      ]
     },
     "execution_count": 16,
     "metadata": {},
     "output_type": "execute_result"
    }
   ],
   "source": [
    "corr.price"
   ]
  },
  {
   "cell_type": "code",
   "execution_count": 17,
   "metadata": {},
   "outputs": [],
   "source": [
    "price_corr = list(abs(corr.price))"
   ]
  },
  {
   "cell_type": "code",
   "execution_count": 18,
   "metadata": {},
   "outputs": [
    {
     "data": {
      "text/plain": [
       "[0.06351173421963843,\n",
       " 1.0,\n",
       " 0.3309902290841232,\n",
       " 0.23447652706494196,\n",
       " 0.3309902290841243,\n",
       " 0.058028684376770154,\n",
       " 0.29777250480580464,\n",
       " 0.7094577905973445]"
      ]
     },
     "execution_count": 18,
     "metadata": {},
     "output_type": "execute_result"
    }
   ],
   "source": [
    "price_corr"
   ]
  },
  {
   "cell_type": "code",
   "execution_count": 19,
   "metadata": {},
   "outputs": [],
   "source": [
    " max_indices = np.argsort(price_corr)[-7:]"
   ]
  },
  {
   "cell_type": "code",
   "execution_count": 20,
   "metadata": {},
   "outputs": [
    {
     "data": {
      "text/plain": [
       "array([0, 3, 6, 2, 4, 7, 1], dtype=int64)"
      ]
     },
     "execution_count": 20,
     "metadata": {},
     "output_type": "execute_result"
    }
   ],
   "source": [
    "max_indices"
   ]
  },
  {
   "cell_type": "code",
   "execution_count": 21,
   "metadata": {},
   "outputs": [
    {
     "ename": "IndexError",
     "evalue": "list index out of range",
     "output_type": "error",
     "traceback": [
      "\u001b[1;31m---------------------------------------------------------------------------\u001b[0m",
      "\u001b[1;31mIndexError\u001b[0m                                Traceback (most recent call last)",
      "\u001b[1;32m<ipython-input-21-7980ef3363dc>\u001b[0m in \u001b[0;36m<module>\u001b[1;34m\u001b[0m\n\u001b[1;32m----> 1\u001b[1;33m \u001b[0mprice_corr\u001b[0m\u001b[1;33m[\u001b[0m\u001b[1;36m8\u001b[0m\u001b[1;33m]\u001b[0m\u001b[1;33m\u001b[0m\u001b[1;33m\u001b[0m\u001b[0m\n\u001b[0m",
      "\u001b[1;31mIndexError\u001b[0m: list index out of range"
     ]
    }
   ],
   "source": [
    "price_corr[8]"
   ]
  },
  {
   "cell_type": "code",
   "execution_count": null,
   "metadata": {},
   "outputs": [],
   "source": [
    "price_corr[3]"
   ]
  },
  {
   "cell_type": "code",
   "execution_count": null,
   "metadata": {},
   "outputs": [],
   "source": [
    "type(corr)"
   ]
  },
  {
   "cell_type": "code",
   "execution_count": null,
   "metadata": {},
   "outputs": [],
   "source": [
    "corr.columns"
   ]
  },
  {
   "cell_type": "code",
   "execution_count": null,
   "metadata": {},
   "outputs": [],
   "source": [
    "for index in max_indices:\n",
    "    print('Variable correlation value with best correlation:   ' + str(round(price_corr[index], 4)))    \n",
    "    print('Variable names with best correlation:   ' + str(corr.columns[index]))\n",
    "    print()"
   ]
  },
  {
   "cell_type": "code",
   "execution_count": null,
   "metadata": {},
   "outputs": [],
   "source": [
    "remove_columns = ['manufacturer_med_price', 'model_med_price', 'condition_med_price', 'paint_color_med_price', 'state_med_price', 'title_status_med_price', 'fuel_med_price', 'transmission_med_price', 'size_med_price', 'drive_med_price', 'type_med_price']"
   ]
  },
  {
   "cell_type": "code",
   "execution_count": null,
   "metadata": {},
   "outputs": [],
   "source": [
    "data.drop(remove_columns, axis=1, inplace=True)"
   ]
  },
  {
   "cell_type": "code",
   "execution_count": null,
   "metadata": {},
   "outputs": [],
   "source": [
    "sns.heatmap(corr, \n",
    "        xticklabels=corr.columns,\n",
    "        yticklabels=corr.columns)"
   ]
  },
  {
   "cell_type": "code",
   "execution_count": null,
   "metadata": {},
   "outputs": [],
   "source": [
    "corr = data.corr()\n",
    "price_corr = list(abs(corr.price))\n",
    "max_indices = np.argsort(price_corr)[-7:]\n",
    "for index in max_indices:\n",
    "    print('Variable correlation value with best correlation:   ' + str(round(price_corr[index], 4)))    \n",
    "    print('Variable names with best correlation:   ' + str(corr.columns[index]))\n",
    "    print()"
   ]
  },
  {
   "cell_type": "code",
   "execution_count": null,
   "metadata": {},
   "outputs": [],
   "source": [
    "# The model, type, drive, manufacturer, and fuel have the best correlations with the overall price of a car,\n",
    "# I would be very wary of model price, the correlation factor is WAAAY too high"
   ]
  },
  {
   "cell_type": "code",
   "execution_count": null,
   "metadata": {},
   "outputs": [],
   "source": [
    "from sklearn.model_selection import train_test_split"
   ]
  },
  {
   "cell_type": "code",
   "execution_count": null,
   "metadata": {},
   "outputs": [],
   "source": [
    "import datetime"
   ]
  },
  {
   "cell_type": "code",
   "execution_count": null,
   "metadata": {},
   "outputs": [],
   "source": [
    "data.columns"
   ]
  },
  {
   "cell_type": "code",
   "execution_count": null,
   "metadata": {},
   "outputs": [],
   "source": [
    "data.loc[0,:]"
   ]
  },
  {
   "cell_type": "code",
   "execution_count": null,
   "metadata": {},
   "outputs": [],
   "source": [
    "data.loc[0,'size']"
   ]
  },
  {
   "cell_type": "code",
   "execution_count": null,
   "metadata": {},
   "outputs": [],
   "source": [
    "data.loc[0,'drive']"
   ]
  },
  {
   "cell_type": "code",
   "execution_count": null,
   "metadata": {},
   "outputs": [],
   "source": [
    "# check code to see if it works"
   ]
  },
  {
   "cell_type": "code",
   "execution_count": null,
   "metadata": {},
   "outputs": [],
   "source": [
    "data.loc[0,'manufacturer']"
   ]
  },
  {
   "cell_type": "code",
   "execution_count": null,
   "metadata": {},
   "outputs": [],
   "source": [
    "np.median(data.groupby('manufacturer').get_group('jeep')['price'])"
   ]
  },
  {
   "cell_type": "code",
   "execution_count": null,
   "metadata": {},
   "outputs": [],
   "source": [
    "data.loc[0,'manufacturer_med_price']"
   ]
  },
  {
   "cell_type": "code",
   "execution_count": null,
   "metadata": {},
   "outputs": [],
   "source": [
    "data.loc[0,'drive']"
   ]
  },
  {
   "cell_type": "code",
   "execution_count": null,
   "metadata": {},
   "outputs": [],
   "source": [
    "man_median_price"
   ]
  },
  {
   "cell_type": "code",
   "execution_count": null,
   "metadata": {},
   "outputs": [],
   "source": [
    "row['manufacturer']"
   ]
  },
  {
   "cell_type": "code",
   "execution_count": null,
   "metadata": {},
   "outputs": [],
   "source": [
    "manufacturers = list(data['manufacturer'])"
   ]
  },
  {
   "cell_type": "code",
   "execution_count": null,
   "metadata": {},
   "outputs": [],
   "source": [
    "def add_new_columns(l, values):\n",
    "    \n",
    "    error = 0\n",
    "    z = list()\n",
    "    for i in l:\n",
    "        try:\n",
    "            z.append(values[i]) \n",
    "        except:\n",
    "            error += 1\n",
    "            z.append(None)\n",
    "            \n",
    "    print('Num Missing: ' + str(error))\n",
    "    return z"
   ]
  },
  {
   "cell_type": "code",
   "execution_count": null,
   "metadata": {},
   "outputs": [],
   "source": [
    "data['man_med_price'] = add_new_columns(manufacturers, man_median_price)"
   ]
  },
  {
   "cell_type": "code",
   "execution_count": null,
   "metadata": {},
   "outputs": [],
   "source": [
    "'''\n",
    "err_man = 0\n",
    "z = list()\n",
    "index = 0\n",
    "for i in manufacturers:\n",
    "    if index % 100 == 0 and index > 0:\n",
    "        print('Row: ' + str(index))\n",
    "    try:\n",
    "        z.append(man_median_price[i]) \n",
    "    except:\n",
    "        err_man += 1\n",
    "        z.append(None)\n",
    "    index += 1\n",
    "print('Num Missing Manufacturers: ' + str(err_man))\n",
    "'''    "
   ]
  },
  {
   "cell_type": "code",
   "execution_count": null,
   "metadata": {},
   "outputs": [],
   "source": [
    "data['man_med_price'] = z"
   ]
  },
  {
   "cell_type": "code",
   "execution_count": null,
   "metadata": {},
   "outputs": [],
   "source": [
    "data.man_med_price"
   ]
  },
  {
   "cell_type": "code",
   "execution_count": null,
   "metadata": {},
   "outputs": [],
   "source": [
    "data.corr()"
   ]
  },
  {
   "cell_type": "code",
   "execution_count": null,
   "metadata": {},
   "outputs": [],
   "source": [
    "data.model"
   ]
  },
  {
   "cell_type": "code",
   "execution_count": null,
   "metadata": {},
   "outputs": [],
   "source": [
    "err_man = 0\n",
    "z = list()\n",
    "for index, row in data.iterrows():\n",
    "    if index % 100 == 0 and index > 0:\n",
    "        print('Row: ' + str(index))\n",
    "    man = row['manufacturer']\n",
    "    try:\n",
    "        z.append(man_median_price[man]) \n",
    "    except:\n",
    "        err_man += 1\n",
    "print('Num Missing Manufacturers: ' + str(err_man))"
   ]
  },
  {
   "cell_type": "code",
   "execution_count": null,
   "metadata": {},
   "outputs": [],
   "source": []
  }
 ],
 "metadata": {
  "kernelspec": {
   "display_name": "Python 3",
   "language": "python",
   "name": "python3"
  },
  "language_info": {
   "codemirror_mode": {
    "name": "ipython",
    "version": 3
   },
   "file_extension": ".py",
   "mimetype": "text/x-python",
   "name": "python",
   "nbconvert_exporter": "python",
   "pygments_lexer": "ipython3",
   "version": "3.8.5"
  }
 },
 "nbformat": 4,
 "nbformat_minor": 2
}
